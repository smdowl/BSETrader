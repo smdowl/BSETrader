{
 "metadata": {
  "name": "Analysis"
 },
 "nbformat": 3,
 "nbformat_minor": 0,
 "worksheets": [
  {
   "cells": [
    {
     "cell_type": "code",
     "collapsed": false,
     "input": [
      "class Transaction:\n",
      "    \"\"\"An object for holding a transaction value and a time.\"\"\"\n",
      "    def __init__(self,time,value):\n",
      "        self.time = time\n",
      "        self.value = value\n",
      "        \n",
      "    def __str__ (self):\n",
      "        return 'Transaction of $%i at %fs' % (self.value, self.time)\n",
      "    def __repr__(self):\n",
      "        return 'Transaction(%f,%i)' % (self.time, self.value)\n",
      "    "
     ],
     "language": "python",
     "metadata": {},
     "outputs": [],
     "prompt_number": 1
    },
    {
     "cell_type": "code",
     "collapsed": false,
     "input": [
      "import csv\n",
      "\n",
      "# import the results files into Transaction objects and arrays of times and values\n",
      "\n",
      "MOVING_AVE_LENGTH = 5\n",
      "\n",
      "transactions = []\n",
      "times = []\n",
      "values = []\n",
      "with open('transactions.csv','rb') as transactionsFile:\n",
      "    transactionReader = csv.reader(transactionsFile)\n",
      "    for row in transactionReader:\n",
      "        time = float(row[0])\n",
      "        value = int(row[1])\n",
      "        transactions.append(Transaction(time,value))\n",
      "        times.append(time)\n",
      "        values.append(value)\n",
      "\n",
      "times = array(times)\n",
      "values = array(values)\n",
      "\n",
      "movingAve = movavg(values,MOVING_AVE_LENGTH)"
     ],
     "language": "python",
     "metadata": {},
     "outputs": [],
     "prompt_number": 43
    },
    {
     "cell_type": "code",
     "collapsed": false,
     "input": [
      "with open('avg_balance.csv') as aveBalanceFile:\n",
      "    balanceReader = csv.reader(aveBalanceFile)\n",
      "    for row in balanceReader:\n",
      "        print row"
     ],
     "language": "python",
     "metadata": {},
     "outputs": [
      {
       "output_type": "stream",
       "stream": "stdout",
       "text": [
        "['trial0001', ' 000180', ' SHVR', ' 7874', ' 62', ' 127.000000', ' 92', ' 106', ' ']\n"
       ]
      }
     ],
     "prompt_number": 47
    },
    {
     "cell_type": "code",
     "collapsed": false,
     "input": [
      "pyplot.plot(times,values,'kx')\n",
      "pyplot.plot(times[MOVING_AVE_LENGTH - 1 :],movingAve)"
     ],
     "language": "python",
     "metadata": {},
     "outputs": [
      {
       "output_type": "pyout",
       "prompt_number": 45,
       "text": [
        "[<matplotlib.lines.Line2D at 0x106a97710>]"
       ]
      },
      {
       "output_type": "display_data",
       "png": "[encoded data removed]"
      }
     ],
     "prompt_number": 45
    },
    {
     "cell_type": "code",
     "collapsed": false,
     "input": [
      "tr = Transaction(34.2,12)\n",
      "print tr"
     ],
     "language": "python",
     "metadata": {},
     "outputs": [
      {
       "output_type": "stream",
       "stream": "stdout",
       "text": [
        "Transaction of $12 at 34.200000s\n"
       ]
      }
     ],
     "prompt_number": 42
    },
    {
     "cell_type": "code",
     "collapsed": false,
     "input": [],
     "language": "python",
     "metadata": {},
     "outputs": []
    }
   ],
   "metadata": {}
  }
 ]
}