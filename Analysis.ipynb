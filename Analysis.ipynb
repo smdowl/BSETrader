{
 "metadata": {
  "name": "Analysis"
 },
 "nbformat": 3,
 "nbformat_minor": 0,
 "worksheets": [
  {
   "cells": [
    {
     "cell_type": "code",
     "collapsed": false,
     "input": [
      "%load_ext autoreload\n",
      "%autoreload 2"
     ],
     "language": "python",
     "metadata": {},
     "outputs": [],
     "prompt_number": 9
    },
    {
     "cell_type": "code",
     "collapsed": false,
     "input": [
      "class Transaction:\n",
      "    \"\"\"An object for holding a transaction value and a time.\"\"\"\n",
      "    def __init__(self,time,value):\n",
      "        self.time = time\n",
      "        self.value = value\n",
      "        \n",
      "    def __str__ (self):\n",
      "        return 'Transaction of $%i at %fs' % (self.value, self.time)\n",
      "    def __repr__(self):\n",
      "        return 'Transaction(%f,%i)' % (self.time, self.value)\n",
      "    "
     ],
     "language": "python",
     "metadata": {},
     "outputs": [],
     "prompt_number": 5
    },
    {
     "cell_type": "code",
     "collapsed": false,
     "input": [
      "import csv\n",
      "\n",
      "# import the results files into Transaction objects and arrays of times and values\n",
      "\n",
      "MOVING_AVE_LENGTH = 5\n",
      "\n",
      "transactions = []\n",
      "times = []\n",
      "values = []\n",
      "with open('transactions.csv','rb') as transactionsFile:\n",
      "    transactionReader = csv.reader(transactionsFile)\n",
      "    for row in transactionReader:\n",
      "        time = float(row[0])\n",
      "        value = int(row[1])\n",
      "        transactions.append(Transaction(time,value))\n",
      "        times.append(time)\n",
      "        values.append(value)\n",
      "\n",
      "times = array(times)\n",
      "values = array(values)\n",
      "\n",
      "movingAve = movavg(values,MOVING_AVE_LENGTH)"
     ],
     "language": "python",
     "metadata": {},
     "outputs": [],
     "prompt_number": 6
    },
    {
     "cell_type": "code",
     "collapsed": false,
     "input": [
      "with open('avg_balance.csv') as aveBalanceFile:\n",
      "    balanceReader = csv.reader(aveBalanceFile)\n",
      "    for row in balanceReader:\n",
      "        print row"
     ],
     "language": "python",
     "metadata": {},
     "outputs": [
      {
       "output_type": "stream",
       "stream": "stdout",
       "text": [
        "['trial0001', ' 000180', ' GVWY', ' 227', ' 4', ' 56.750000', ' SHVR', ' 679', ' 4', ' 169.750000', ' SNPR', ' 254', ' 4', ' 63.500000', ' ZIP', ' 753', ' 4', ' 188.250000', ' 85', ' 119', ' ']\n"
       ]
      }
     ],
     "prompt_number": 2
    },
    {
     "cell_type": "code",
     "collapsed": false,
     "input": [
      "pyplot.plot(times,values,'kx')\n",
      "pyplot.plot(times[MOVING_AVE_LENGTH - 1 :],movingAve)\n"
     ],
     "language": "python",
     "metadata": {},
     "outputs": [
      {
       "output_type": "pyout",
       "prompt_number": 8,
       "text": [
        "[<matplotlib.lines.Line2D at 0x10f906790>]"
       ]
      },
      {
       "output_type": "display_data",
       "png": "[encoded data removed]"
      }
     ],
     "prompt_number": 8
    },
    {
     "cell_type": "code",
     "collapsed": false,
     "input": [
      "exp(1)"
     ],
     "language": "python",
     "metadata": {},
     "outputs": [
      {
       "output_type": "pyout",
       "prompt_number": 9,
       "text": [
        "2.7182818284590451"
       ]
      }
     ],
     "prompt_number": 9
    },
    {
     "cell_type": "code",
     "collapsed": false,
     "input": [
      "from BSE import *\n",
      "from Trader_AA import Marginality\n",
      "\n",
      "trader = Trader_AA('AA','B01',0.00)\n",
      "trader.equilibrium = 3\n",
      "trader.theta = 4\n",
      "trader.job = 'Ask'\n",
      "trader.limit = 2.5\n",
      "trader.p_max = 6\n",
      "trader.marginality = Marginality.Extra\n",
      "trader.transactions = [6]\n",
      "\n",
      "trader.alphas = [0.02,0.15]"
     ],
     "language": "python",
     "metadata": {},
     "outputs": [],
     "prompt_number": 12
    },
    {
     "cell_type": "code",
     "collapsed": false,
     "input": [
      "\n",
      "\n",
      "results = []\n",
      "ays = linspace(min(trader.alphas),max(trader.alphas))\n",
      "for a in ays:\n",
      "    results.append(trader.calculate_thetastar(a))\n",
      "    \n",
      "print ays\n",
      "print results\n",
      "\n",
      "plot(ays,results)"
     ],
     "language": "python",
     "metadata": {},
     "outputs": [
      {
       "output_type": "stream",
       "stream": "stdout",
       "text": [
        "[ 0.02        0.02265306  0.02530612  0.02795918  0.03061224  0.03326531\n",
        "  0.03591837  0.03857143  0.04122449  0.04387755  0.04653061  0.04918367\n",
        "  0.05183673  0.0544898   0.05714286  0.05979592  0.06244898  0.06510204\n",
        "  0.0677551   0.07040816  0.07306122  0.07571429  0.07836735  0.08102041\n",
        "  0.08367347  0.08632653  0.08897959  0.09163265  0.09428571  0.09693878\n",
        "  0.09959184  0.1022449   0.10489796  0.10755102  0.11020408  0.11285714\n",
        "  0.1155102   0.11816327  0.12081633  0.12346939  0.12612245  0.12877551\n",
        "  0.13142857  0.13408163  0.13673469  0.13938776  0.14204082  0.14469388\n",
        "  0.14734694  0.15      ]\n",
        "[2.0, 1.9978889834766047, 1.9914399671007121, 1.9804749679356703, 1.9648105078619871, 1.9442574626394578, 1.9186209070812481, 1.8876999562437824, 1.8512876025339118, 1.8091705486326024, 1.7611290361317611, 1.7069366697785799, 1.6463602372190227, 1.5791595241296008, 1.5050871246239286, 1.4238882468177376, 1.3353005134333529, 1.2390537573217006, 1.1348698117770581, 1.0224622955167018, 0.90153639219465553, 0.77178862431548367, 0.63290662141099929, 0.48456888233936724, 0.32644453156283859, 0.15819306925683208, -0.020535884900414914, -0.21010285441192611, -0.41087877527790617, -0.62324527210524305, -0.84759494117626755, -1.0843316406463872, -1.3338707880441873, -1.596639665251792, -1.873077731147462, -2.1636369420967378, -2.468782080482856, -2.7889910914717442, -3.1247554282114383, -3.4765804056706253, -3.8449855633257402, -4.2305050369111434, -4.6336879394519102, -5.0550987518039108, -5.4953177229313495, -5.9549412801572101, -6.4345824496277029, -6.9348712872375033, -7.4564553202684083, -8.0]\n"
       ]
      },
      {
       "output_type": "pyout",
       "prompt_number": 13,
       "text": [
        "[<matplotlib.lines.Line2D at 0x112289690>]"
       ]
      },
      {
       "output_type": "display_data",
       "png": "[encoded data removed]"
      }
     ],
     "prompt_number": 13
    },
    {
     "cell_type": "code",
     "collapsed": false,
     "input": [
      "from BSE import *\n",
      "from Trader_AA import Marginality\n",
      "\n",
      "trader = Trader_AA('AA','B01',0.00)\n",
      "trader.equilibrium = 3\n",
      "trader.theta = 4\n",
      "trader.job = 'Bid'\n",
      "trader.limit = 2.5\n",
      "trader.p_max = 6\n",
      "trader.marginality = Marginality.Extra\n",
      "trader.transactions = [6]\n",
      "\n",
      "trader.alphas = [0.02,0.15]\n",
      "\n",
      "targets = zeros(21)\n",
      "rs = zeros(21)\n",
      "for i in range(21):\n",
      "    r = -1 + float(i) / 10\n",
      "    targets[i] = trader.calculate_target_price(r)\n",
      "    rs[i] = r\n",
      "    \n",
      "plot(rs,targets)\n",
      "plot(rs,trader.equilibrium*ones(len(rs)),'k--')"
     ],
     "language": "python",
     "metadata": {},
     "outputs": [
      {
       "output_type": "pyout",
       "prompt_number": 11,
       "text": [
        "[<matplotlib.lines.Line2D at 0x10adfa490>]"
       ]
      },
      {
       "output_type": "display_data",
       "png": "[encoded data removed]"
      }
     ],
     "prompt_number": 11
    },
    {
     "cell_type": "code",
     "collapsed": false,
     "input": [
      "lob = {'bids':{'best':5}}\n",
      "print trader.calculate_r_shout(lob)"
     ],
     "language": "python",
     "metadata": {},
     "outputs": [
      {
       "output_type": "stream",
       "stream": "stdout",
       "text": [
        "100\n"
       ]
      }
     ],
     "prompt_number": 12
    }
   ],
   "metadata": {}
  }
 ]
}