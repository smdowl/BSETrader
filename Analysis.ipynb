{
 "metadata": {
  "name": "Analysis"
 },
 "nbformat": 3,
 "nbformat_minor": 0,
 "worksheets": [
  {
   "cells": [
    {
     "cell_type": "code",
     "collapsed": false,
     "input": [
      "class Transaction:\n",
      "    \"\"\"An object for holding a transaction value and a time.\"\"\"\n",
      "    def __init__(self,time,value):\n",
      "        self.time = time\n",
      "        self.value = value\n",
      "        \n",
      "    def __str__ (self):\n",
      "        return 'Transaction of $%i at %fs' % (self.value, self.time)\n",
      "    def __repr__(self):\n",
      "        return 'Transaction(%f,%i)' % (self.time, self.value)\n",
      "    "
     ],
     "language": "python",
     "metadata": {},
     "outputs": [],
     "prompt_number": 5
    },
    {
     "cell_type": "code",
     "collapsed": false,
     "input": [
      "import csv\n",
      "\n",
      "# import the results files into Transaction objects and arrays of times and values\n",
      "\n",
      "MOVING_AVE_LENGTH = 5\n",
      "\n",
      "transactions = []\n",
      "times = []\n",
      "values = []\n",
      "with open('transactions.csv','rb') as transactionsFile:\n",
      "    transactionReader = csv.reader(transactionsFile)\n",
      "    for row in transactionReader:\n",
      "        time = float(row[0])\n",
      "        value = int(row[1])\n",
      "        transactions.append(Transaction(time,value))\n",
      "        times.append(time)\n",
      "        values.append(value)\n",
      "\n",
      "times = array(times)\n",
      "values = array(values)\n",
      "\n",
      "movingAve = movavg(values,MOVING_AVE_LENGTH)"
     ],
     "language": "python",
     "metadata": {},
     "outputs": [],
     "prompt_number": 6
    },
    {
     "cell_type": "code",
     "collapsed": false,
     "input": [
      "with open('avg_balance.csv') as aveBalanceFile:\n",
      "    balanceReader = csv.reader(aveBalanceFile)\n",
      "    for row in balanceReader:\n",
      "        print row"
     ],
     "language": "python",
     "metadata": {},
     "outputs": [
      {
       "output_type": "stream",
       "stream": "stdout",
       "text": [
        "['trial0001', ' 000180', ' GVWY', ' 227', ' 4', ' 56.750000', ' SHVR', ' 679', ' 4', ' 169.750000', ' SNPR', ' 254', ' 4', ' 63.500000', ' ZIP', ' 753', ' 4', ' 188.250000', ' 85', ' 119', ' ']\n"
       ]
      }
     ],
     "prompt_number": 2
    },
    {
     "cell_type": "code",
     "collapsed": false,
     "input": [
      "pyplot.plot(times,values,'kx')\n",
      "pyplot.plot(times[MOVING_AVE_LENGTH - 1 :],movingAve)\n"
     ],
     "language": "python",
     "metadata": {},
     "outputs": [
      {
       "output_type": "pyout",
       "prompt_number": 8,
       "text": [
        "[<matplotlib.lines.Line2D at 0x10f906790>]"
       ]
      },
      {
       "output_type": "display_data",
       "png": "[encoded data removed]"
      }
     ],
     "prompt_number": 8
    },
    {
     "cell_type": "code",
     "collapsed": false,
     "input": [
      "exp(1)"
     ],
     "language": "python",
     "metadata": {},
     "outputs": [
      {
       "output_type": "pyout",
       "prompt_number": 9,
       "text": [
        "2.7182818284590451"
       ]
      }
     ],
     "prompt_number": 9
    },
    {
     "cell_type": "code",
     "collapsed": false,
     "input": [
      "from BSE import *\n",
      "from Trader_AA import Marginality"
     ],
     "language": "python",
     "metadata": {},
     "outputs": [],
     "prompt_number": 1
    },
    {
     "cell_type": "code",
     "collapsed": false,
     "input": [
      "trader = Trader_AA('AA','B01',0.00)\n",
      "trader.equilibrium = 3\n",
      "trader.theta = -1\n",
      "trader.job = 'Bid'\n",
      "trader.limit = 4\n",
      "trader.p_max = 6\n",
      "trader.marginality = Marginality.Extra\n",
      "trader.transactions = [6]"
     ],
     "language": "python",
     "metadata": {},
     "outputs": [],
     "prompt_number": 12
    },
    {
     "cell_type": "code",
     "collapsed": false,
     "input": [
      "targets = zeros(21)\n",
      "rs = zeros(21)\n",
      "for i in range(21):\n",
      "    r = -1 + float(i) / 10\n",
      "    targets[i] = trader.calculate_target_price(r)\n",
      "    rs[i] = r"
     ],
     "language": "python",
     "metadata": {},
     "outputs": [],
     "prompt_number": 13
    },
    {
     "cell_type": "code",
     "collapsed": false,
     "input": [
      "print targets\n",
      "print rs[0:11]"
     ],
     "language": "python",
     "metadata": {},
     "outputs": [
      {
       "output_type": "stream",
       "stream": "stdout",
       "text": [
        "[ 0.          0.01603852  0.06863338  0.1652965   0.31471554  0.52691809\n",
        "  0.81345744  1.18762256  1.66467544  2.26211907  3.          3.55994038\n",
        "  3.8087383   3.91817141  3.96570528  3.98602618  3.99453394  3.99799551\n",
        "  3.9993466   3.99984026  4.        ]\n",
        "[-1.  -0.9 -0.8 -0.7 -0.6 -0.5 -0.4 -0.3 -0.2 -0.1  0. ]\n"
       ]
      }
     ],
     "prompt_number": 14
    },
    {
     "cell_type": "code",
     "collapsed": false,
     "input": [
      "plot(rs,targets)"
     ],
     "language": "python",
     "metadata": {},
     "outputs": [
      {
       "output_type": "pyout",
       "prompt_number": 15,
       "text": [
        "[<matplotlib.lines.Line2D at 0x10fd6e150>]"
       ]
      },
      {
       "output_type": "display_data",
       "png": "[encoded data removed]"
      }
     ],
     "prompt_number": 15
    },
    {
     "cell_type": "code",
     "collapsed": false,
     "input": [
      "log(trader.equilibrium)"
     ],
     "language": "python",
     "metadata": {},
     "outputs": [
      {
       "output_type": "pyout",
       "prompt_number": 11,
       "text": [
        "1.0986122886681098"
       ]
      }
     ],
     "prompt_number": 11
    },
    {
     "cell_type": "code",
     "collapsed": false,
     "input": [
      "def f(r):\n",
      "    equilibrium = 3\n",
      "    theta = -1\n",
      "    limit = 4\n",
      "    transactions = [6]\n",
      "#    return equilibrium + (max(transactions) - equilibrium) * (-r)*exp(-(r+1)*theta)\n",
      "    value = (max(transactions) - equilibrium)/(equilibrium-limit)\n",
      "    theta_underscore = log() - theta\n",
      "    return equilibrium + (equilibrium - limit) * (-r) * exp((-r+1)*theta_underscore)"
     ],
     "language": "python",
     "metadata": {},
     "outputs": [],
     "prompt_number": 15
    },
    {
     "cell_type": "code",
     "collapsed": false,
     "input": [
      "print f(1)"
     ],
     "language": "python",
     "metadata": {},
     "outputs": [
      {
       "output_type": "stream",
       "stream": "stdout",
       "text": [
        "nan\n"
       ]
      },
      {
       "output_type": "stream",
       "stream": "stderr",
       "text": [
        "-c:7: RuntimeWarning: invalid value encountered in log\n"
       ]
      }
     ],
     "prompt_number": 16
    },
    {
     "cell_type": "code",
     "collapsed": false,
     "input": [],
     "language": "python",
     "metadata": {},
     "outputs": []
    }
   ],
   "metadata": {}
  }
 ]
}