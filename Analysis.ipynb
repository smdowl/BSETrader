{
 "metadata": {
  "name": "Analysis"
 },
 "nbformat": 3,
 "nbformat_minor": 0,
 "worksheets": [
  {
   "cells": [
    {
     "cell_type": "code",
     "collapsed": false,
     "input": [
      "class Transaction:\n",
      "    \"\"\"An object for holding a transaction value and a time.\"\"\"\n",
      "    def __init__(self,time,value):\n",
      "        self.time = time\n",
      "        self.value = value\n",
      "        \n",
      "    def __str__ (self):\n",
      "        return 'Transaction of $%i at %fs' % (self.value, self.time)\n",
      "    def __repr__(self):\n",
      "        return 'Transaction(%f,%i)' % (self.time, self.value)\n",
      "    "
     ],
     "language": "python",
     "metadata": {},
     "outputs": [],
     "prompt_number": 13
    },
    {
     "cell_type": "code",
     "collapsed": false,
     "input": [
      "import csv\n",
      "\n",
      "# import the results files into Transaction objects and arrays of times and values\n",
      "\n",
      "MOVING_AVE_LENGTH = 5\n",
      "\n",
      "transactions = []\n",
      "times = []\n",
      "values = []\n",
      "with open('transactions.csv','rb') as transactionsFile:\n",
      "    transactionReader = csv.reader(transactionsFile)\n",
      "    for row in transactionReader:\n",
      "        time = float(row[0])\n",
      "        value = int(row[1])\n",
      "        transactions.append(Transaction(time,value))\n",
      "        times.append(time)\n",
      "        values.append(value)\n",
      "\n",
      "times = array(times)\n",
      "values = array(values)\n",
      "\n",
      "movingAve = movavg(values,MOVING_AVE_LENGTH)"
     ],
     "language": "python",
     "metadata": {},
     "outputs": [],
     "prompt_number": 14
    },
    {
     "cell_type": "code",
     "collapsed": false,
     "input": [
      "with open('avg_balance.csv') as aveBalanceFile:\n",
      "    balanceReader = csv.reader(aveBalanceFile)\n",
      "    for row in balanceReader:\n",
      "        print row"
     ],
     "language": "python",
     "metadata": {},
     "outputs": [
      {
       "output_type": "stream",
       "stream": "stdout",
       "text": [
        "['trial0001', ' 000180', ' SHVR', ' 2245', ' 10', ' 224.500000', ' SNPR', ' 309', ' 10', ' 30.900000', ' ZIC', ' 943', ' 10', ' 94.300000', ' ZIP', ' 1066', ' 10', ' 106.600000', ' 91', ' 127', ' ']\n"
       ]
      }
     ],
     "prompt_number": 15
    },
    {
     "cell_type": "code",
     "collapsed": false,
     "input": [
      "pyplot.plot(times,values,'kx')\n",
      "pyplot.plot(times[MOVING_AVE_LENGTH - 1 :],movingAve)"
     ],
     "language": "python",
     "metadata": {},
     "outputs": [
      {
       "output_type": "pyout",
       "prompt_number": 18,
       "text": [
        "[<matplotlib.lines.Line2D at 0x106447250>]"
       ]
      },
      {
       "output_type": "display_data",
       "png": "[encoded data removed]"
      }
     ],
     "prompt_number": 18
    },
    {
     "cell_type": "code",
     "collapsed": false,
     "input": [],
     "language": "python",
     "metadata": {},
     "outputs": []
    }
   ],
   "metadata": {}
  }
 ]
}