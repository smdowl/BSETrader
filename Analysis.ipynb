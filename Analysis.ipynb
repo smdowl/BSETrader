{
 "metadata": {
  "name": "Analysis"
 },
 "nbformat": 3,
 "nbformat_minor": 0,
 "worksheets": [
  {
   "cells": [
    {
     "cell_type": "code",
     "collapsed": false,
     "input": [
      "class Transaction:\n",
      "    \"\"\"An object for holding a transaction value and a time.\"\"\"\n",
      "    def __init__(self,time,value):\n",
      "        self.time = time\n",
      "        self.value = value\n",
      "        \n",
      "    def __str__ (self):\n",
      "        return 'Transaction of $%i at %fs' % (self.value, self.time)\n",
      "    def __repr__(self):\n",
      "        return 'Transaction(%f,%i)' % (self.time, self.value)\n",
      "    "
     ],
     "language": "python",
     "metadata": {},
     "outputs": [],
     "prompt_number": 9
    },
    {
     "cell_type": "code",
     "collapsed": false,
     "input": [
      "import csv\n",
      "\n",
      "# import the results files into Transaction objects and arrays of times and values\n",
      "\n",
      "MOVING_AVE_LENGTH = 5\n",
      "\n",
      "transactions = []\n",
      "times = []\n",
      "values = []\n",
      "with open('transactions.csv','rb') as transactionsFile:\n",
      "    transactionReader = csv.reader(transactionsFile)\n",
      "    for row in transactionReader:\n",
      "        time = float(row[0])\n",
      "        value = int(row[1])\n",
      "        transactions.append(Transaction(time,value))\n",
      "        times.append(time)\n",
      "        values.append(value)\n",
      "\n",
      "times = array(times)\n",
      "values = array(values)\n",
      "\n",
      "movingAve = movavg(values,MOVING_AVE_LENGTH)"
     ],
     "language": "python",
     "metadata": {},
     "outputs": [],
     "prompt_number": 10
    },
    {
     "cell_type": "code",
     "collapsed": false,
     "input": [],
     "language": "python",
     "metadata": {},
     "outputs": []
    }
   ],
   "metadata": {}
  }
 ]
}